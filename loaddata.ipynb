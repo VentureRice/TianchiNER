{
 "cells": [
  {
   "cell_type": "code",
   "execution_count": 12,
   "metadata": {},
   "outputs": [],
   "source": [
    "import re\n",
    "import pandas as pd\n",
    "import numpy as np\n",
    "import os"
   ]
  },
  {
   "cell_type": "code",
   "execution_count": 13,
   "metadata": {},
   "outputs": [],
   "source": [
    "for i in range(1000):\n",
    "    with open('data/train/%d.ann'%i) as file_obj:\n",
    "        labeled_data = file_obj.read()\n",
    "    labeled_data_list = labeled_data.split('\\n')\n",
    "    labelDic = {}\n",
    "    for sent in labeled_data_list:\n",
    "        sent_list = re.split(' |\\t',sent)\n",
    "        start = int(sent_list[2])\n",
    "        end = int(sent_list[3])\n",
    "        for k in range(start,end):\n",
    "            if k == start:\n",
    "                labelDic[k] = 'B-'+sent_list[1]\n",
    "            else:\n",
    "                labelDic[k] = 'I-'+sent_list[1]\n",
    "    with open('data/train/%d.txt'%i) as file_obj:\n",
    "        content = file_obj.read().replace('\\u3000','_').replace(' ','_')\n",
    "    #train_data = []\n",
    "    sent_ = []\n",
    "    for (j,letter) in enumerate(content):\n",
    "        if letter == '_':\n",
    "            sent_.append(('<PAD>','O'))\n",
    "        elif letter == '。':\n",
    "            if len(sent_)>15:\n",
    "                if i<=800:\n",
    "                    n = len(os.listdir('data/train_data'))\n",
    "                    pd.DataFrame(sent_).to_csv('data/train_data/train_data_%06d'%n,\n",
    "                                                    sep='\\t',\n",
    "                                                    header = None,\n",
    "                                                    index = 0,\n",
    "                                                    encoding = 'utf-8')\n",
    "                else:\n",
    "                    n = len(os.listdir('data/valid_data'))\n",
    "                    pd.DataFrame(sent_).to_csv('data/valid_data/valid_data_%06d'%n,\n",
    "                                                    sep='\\t',\n",
    "                                                    header = None,\n",
    "                                                    index = 0,\n",
    "                                                    encoding = 'utf-8')\n",
    "                sent_ = []\n",
    "            else:\n",
    "                sent_.append((letter,'O'))\n",
    "        else:\n",
    "            try:\n",
    "                sent_.append((letter,labelDic[j]))\n",
    "            except:\n",
    "                sent_.append((letter,'O'))\n",
    "            \n",
    "            \n",
    "        "
   ]
  },
  {
   "cell_type": "code",
   "execution_count": 6,
   "metadata": {},
   "outputs": [],
   "source": [
    "content_sent = content.split('。')\n",
    "content_sent = [x for x in content_sent if len(x)>3]"
   ]
  },
  {
   "cell_type": "code",
   "execution_count": 7,
   "metadata": {},
   "outputs": [
    {
     "data": {
      "text/plain": [
       "['_尚不明确',\n",
       " '__活血调经',\n",
       " '用于血瘀所致的月经不调，症见经水量多_开水冲服',\n",
       " '一次1袋，一日2次',\n",
       " '__祛瘀生新',\n",
       " '用于月经量少、后错，经来腹痛__15g*8袋__1.忌食生冷食物',\n",
       " '2.气血两虚引起的月经量少，色淡质稀，伴有头晕心悸，疲乏无力等不宜选用本药',\n",
       " '3.有高血压、心脏病、肾病、糖尿病或正在接受其他治疗的患者均应在医师指导下服用',\n",
       " '4.平素月经量正常，突然出现经量少，须去医院就诊',\n",
       " '5.青春期少女及更年期妇女应在医师指导下服药',\n",
       " '6.各种流产后腹痛伴有阴道出血，服药一周无效者应去医院就诊',\n",
       " '7.儿童、哺乳期妇女、老人等用药应在医师指导下使用',\n",
       " '8.按照用法用量服用，服药过程中出现不良反应应停药，并向医师咨询',\n",
       " '9.对本品过敏者禁用，过敏体质者慎用',\n",
       " '10.本品性状发生改变时禁止使用',\n",
       " '11.请将本品放在儿童不能接触的地方',\n",
       " '12.如正在使用其他药品，使用本品前请咨询医师或药师',\n",
       " '如与其他药物同时使用可能会发生药物相互作用，详情请咨询医师或药师',\n",
       " '__尚不明确',\n",
       " '__非处方药物（乙类）,国家基本药物目录（2012）__15g*8袋__开水冲服',\n",
       " '一次1袋，一日2次',\n",
       " '__孕妇禁用',\n",
       " '如与其他药物同时使用可能会发生药物相互作用，详情请咨询医师或药师',\n",
       " '__1.忌食生冷食物味甜、微苦颗粒；味甜、微苦',\n",
       " '__本品为棕黄色至棕褐色的颗粒；味甜、微苦',\n",
       " '__北京同仁堂天然药物(唐山)有限公司__北京同仁堂天然药物(唐山)有限公司__祛瘀生新',\n",
       " '用于月经量少、后错，经来腹痛__孕妇禁用',\n",
       " '__15g*8袋__非处方药物（乙类）,国家基本药物目录（2012）__15g*8袋_']"
      ]
     },
     "execution_count": 7,
     "metadata": {},
     "output_type": "execute_result"
    }
   ],
   "source": [
    "content_sent"
   ]
  },
  {
   "cell_type": "code",
   "execution_count": null,
   "metadata": {},
   "outputs": [],
   "source": []
  }
 ],
 "metadata": {
  "kernelspec": {
   "display_name": "Python 3",
   "language": "python",
   "name": "python3"
  },
  "language_info": {
   "codemirror_mode": {
    "name": "ipython",
    "version": 3
   },
   "file_extension": ".py",
   "mimetype": "text/x-python",
   "name": "python",
   "nbconvert_exporter": "python",
   "pygments_lexer": "ipython3",
   "version": "3.7.3"
  }
 },
 "nbformat": 4,
 "nbformat_minor": 2
}
