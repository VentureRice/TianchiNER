{
 "cells": [
  {
   "cell_type": "code",
   "execution_count": 3,
   "metadata": {},
   "outputs": [],
   "source": [
    "import re\n",
    "import pandas as pd\n",
    "import numpy as np"
   ]
  },
  {
   "cell_type": "code",
   "execution_count": 4,
   "metadata": {},
   "outputs": [],
   "source": [
    "for i in range(1000):\n",
    "    with open('data/train/%d.ann'%i) as file_obj:\n",
    "        labeled_data = file_obj.read()\n",
    "    labeled_data_list = labeled_data.split('\\n')\n",
    "    labelDic = {}\n",
    "    for sent in labeled_data_list:\n",
    "        sent_list = re.split(' |\\t',sent)\n",
    "        start = int(sent_list[2])\n",
    "        end = int(sent_list[3])\n",
    "        for k in range(start,end):\n",
    "            labelDic[k] = sent_list[1]\n",
    "    with open('data/train/%d.txt'%i) as file_obj:\n",
    "        content = file_obj.read().replace('\\u3000','_').replace(' ','_')\n",
    "    train_data = []\n",
    "    for (j,letter) in enumerate(content):\n",
    "        if letter != '_':\n",
    "            try:\n",
    "                train_data.append((letter,labelDic[j]))\n",
    "            except:\n",
    "                train_data.append((letter,'O'))\n",
    "        else:\n",
    "            train_data.append(('<PAD>','O'))\n",
    "    if i<=800:\n",
    "        pd.DataFrame(train_data).to_csv('data/train_data/train_data_%03d'%i,\n",
    "                                        sep='\\t',\n",
    "                                        header = None,\n",
    "                                        index = 0,\n",
    "                                        encoding = 'utf-8')\n",
    "    else:\n",
    "        pd.DataFrame(train_data).to_csv('data/valid_data/valid_data_%03d'%i,\n",
    "                                        sep='\\t',\n",
    "                                        header = None,\n",
    "                                        index = 0,\n",
    "                                        encoding = 'utf-8')"
   ]
  },
  {
   "cell_type": "code",
   "execution_count": null,
   "metadata": {},
   "outputs": [],
   "source": []
  }
 ],
 "metadata": {
  "kernelspec": {
   "display_name": "Python 3",
   "language": "python",
   "name": "python3"
  },
  "language_info": {
   "codemirror_mode": {
    "name": "ipython",
    "version": 3
   },
   "file_extension": ".py",
   "mimetype": "text/x-python",
   "name": "python",
   "nbconvert_exporter": "python",
   "pygments_lexer": "ipython3",
   "version": "3.7.3"
  }
 },
 "nbformat": 4,
 "nbformat_minor": 2
}
