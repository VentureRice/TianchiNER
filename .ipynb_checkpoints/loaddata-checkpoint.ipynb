{
 "cells": [
  {
   "cell_type": "code",
   "execution_count": 12,
   "metadata": {},
   "outputs": [],
   "source": [
    "import re\n",
    "import pandas as pd\n",
    "import numpy as np\n",
    "import os"
   ]
  },
  {
   "cell_type": "code",
   "execution_count": 13,
   "metadata": {},
   "outputs": [],
   "source": [
    "for i in range(1000):\n",
    "    with open('data/train/%d.ann'%i) as file_obj:\n",
    "        labeled_data = file_obj.read()\n",
    "    labeled_data_list = labeled_data.split('\\n')\n",
    "    labelDic = {}\n",
    "    for sent in labeled_data_list:\n",
    "        sent_list = re.split(' |\\t',sent)\n",
    "        start = int(sent_list[2])\n",
    "        end = int(sent_list[3])\n",
    "        for k in range(start,end):\n",
    "            if k == start:\n",
    "                labelDic[k] = 'B-'+sent_list[1]\n",
    "            else:\n",
    "                labelDic[k] = 'I-'+sent_list[1]\n",
    "    with open('data/train/%d.txt'%i) as file_obj:\n",
    "        content = file_obj.read().replace('\\u3000','_').replace(' ','_')\n",
    "    #train_data = []\n",
    "    sent_ = []\n",
    "    for (j,letter) in enumerate(content):\n",
    "        if letter == '_':\n",
    "            sent_.append(('<PAD>','O'))\n",
    "        elif letter == '。':\n",
    "            if len(sent_)>15:\n",
    "                if i<=800:\n",
    "                    n = len(os.listdir('data/train_data'))\n",
    "                    pd.DataFrame(sent_).to_csv('data/train_data/train_data_%06d'%n,\n",
    "                                                    sep='\\t',\n",
    "                                                    header = None,\n",
    "                                                    index = 0,\n",
    "                                                    encoding = 'utf-8')\n",
    "                else:\n",
    "                    n = len(os.listdir('data/valid_data'))\n",
    "                    pd.DataFrame(sent_).to_csv('data/valid_data/valid_data_%06d'%n,\n",
    "                                                    sep='\\t',\n",
    "                                                    header = None,\n",
    "                                                    index = 0,\n",
    "                                                    encoding = 'utf-8')\n",
    "                sent_ = []\n",
    "            else:\n",
    "                sent_.append((letter,'O'))\n",
    "        else:\n",
    "            try:\n",
    "                sent_.append((letter,labelDic[j]))\n",
    "            except:\n",
    "                sent_.append((letter,'O'))\n",
    "            \n",
    "            \n",
    "        "
   ]
  }
 ],
 "metadata": {
  "kernelspec": {
   "display_name": "Python 3",
   "language": "python",
   "name": "python3"
  },
  "language_info": {
   "codemirror_mode": {
    "name": "ipython",
    "version": 3
   },
   "file_extension": ".py",
   "mimetype": "text/x-python",
   "name": "python",
   "nbconvert_exporter": "python",
   "pygments_lexer": "ipython3",
   "version": "3.7.3"
  }
 },
 "nbformat": 4,
 "nbformat_minor": 2
}
