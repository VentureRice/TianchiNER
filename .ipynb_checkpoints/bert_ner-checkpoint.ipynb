{
 "cells": [
  {
   "cell_type": "code",
   "execution_count": null,
   "metadata": {},
   "outputs": [],
   "source": [
    "from kashgari.corpus import ChineseDailyNerCorpus\n",
    "\n",
    "train_x, train_y = ChineseDailyNerCorpus.load_data('train')\n",
    "valid_x, valid_y = ChineseDailyNerCorpus.load_data('validate')\n",
    "test_x, test_y  = ChineseDailyNerCorpus.load_data('test')\n",
    "\n",
    "print(f\"train data count: {len(train_x)}\")\n",
    "print(f\"validate data count: {len(valid_x)}\")\n",
    "print(f\"test data count: {len(test_x)}\")"
   ]
  },
  {
   "cell_type": "code",
   "execution_count": null,
   "metadata": {},
   "outputs": [],
   "source": [
    "import kashgari\n",
    "from kashgari.embeddings import BERTEmbedding\n",
    "\n",
    "bert_embed = BERTEmbedding('/Users/apple/Desktop/bert-master/chinese_L-12_H-768_A-12',\n",
    "                           task=kashgari.LABELING,\n",
    "                           sequence_length=100)"
   ]
  },
  {
   "cell_type": "code",
   "execution_count": null,
   "metadata": {},
   "outputs": [],
   "source": [
    "help(BERTEmbedding)"
   ]
  },
  {
   "cell_type": "code",
   "execution_count": null,
   "metadata": {},
   "outputs": [],
   "source": []
  }
 ],
 "metadata": {
  "kernelspec": {
   "display_name": "Python 3",
   "language": "python",
   "name": "python3"
  },
  "language_info": {
   "codemirror_mode": {
    "name": "ipython",
    "version": 3
   },
   "file_extension": ".py",
   "mimetype": "text/x-python",
   "name": "python",
   "nbconvert_exporter": "python",
   "pygments_lexer": "ipython3",
   "version": "3.7.3"
  }
 },
 "nbformat": 4,
 "nbformat_minor": 2
}
